{
 "cells": [
  {
   "cell_type": "code",
   "execution_count": 1,
   "id": "1369f582",
   "metadata": {},
   "outputs": [],
   "source": [
    "## This makes Figures 2 of the LVDB overview paper"
   ]
  },
  {
   "cell_type": "code",
   "execution_count": 2,
   "id": "3e8c4cdc",
   "metadata": {},
   "outputs": [],
   "source": [
    "import numpy as np\n",
    "import matplotlib.pyplot as plt\n",
    "%matplotlib inline\n",
    "\n",
    "import astropy.table as table"
   ]
  },
  {
   "cell_type": "code",
   "execution_count": 3,
   "id": "e6144849",
   "metadata": {},
   "outputs": [],
   "source": [
    "## make good looking plots\n",
    "# plt.style.use('https://raw.githubusercontent.com/apace7/local_volume_database/main/code/std.mplstyle')\n",
    "## load locally\n",
    "plt.style.use('../code/std.mplstyle')\n",
    "import matplotlib as mp\n",
    "mp.rcParams['text.usetex'] = True"
   ]
  },
  {
   "cell_type": "code",
   "execution_count": 4,
   "id": "afaae0a3",
   "metadata": {},
   "outputs": [],
   "source": [
    "## consistent labels and colors\n",
    "color_dsph_mw = 'tab:blue'\n",
    "color_dsph_m31 = 'tab:orange'\n",
    "color_dsph_lf = 'tab:green'\n",
    "color_dsph_lf_distant = 'tab:red'\n",
    "\n",
    "color_gc_disk = 'tab:purple'\n",
    "color_gc_harris = 'tab:brown'\n",
    "color_gc_ufcss = 'tab:olive'\n",
    "\n",
    "color_gc_dwarf = 'tab:pink'\n",
    "color_gc_lmc_smc = 'tab:grey'\n",
    "\n",
    "label_dsph_mw = r'${\\rm MW~Satellite}$'\n",
    "label_dsph_m31 = r'${\\rm M31~Satellite}$'\n",
    "label_dsph_lf = r'${\\rm Local~Field/Isolated}$'\n",
    "label_dsph_lf_distant = r'${\\rm Dwarf~Distant}$'\n",
    "label_gc_ufcss = r'${\\rm UFCSS}$'\n",
    "label_gc_harris = r'${\\rm GC~Harris}$'\n",
    "label_gc_disk =r'${\\rm GC~New~Disk}$'\n",
    "label_gc_lmc_smc =r'${\\rm GC~LMC/SMC}$'\n",
    "label_gc_dwarf =r'${\\rm GC~Dwarf}$'"
   ]
  },
  {
   "cell_type": "code",
   "execution_count": 5,
   "id": "b92adf03",
   "metadata": {},
   "outputs": [],
   "source": [
    "## load latest files from github\n",
    "dsph_mw = table.Table.read('https://raw.githubusercontent.com/apace7/local_volume_database/main/data/dwarf_mw.csv')\n",
    "dsph_m31 = table.Table.read('https://raw.githubusercontent.com/apace7/local_volume_database/main/data/dwarf_m31.csv')\n",
    "dsph_lf = table.Table.read('https://raw.githubusercontent.com/apace7/local_volume_database/main/data/dwarf_local_field.csv')\n",
    "gc_ambiguous = table.Table.read('https://raw.githubusercontent.com/apace7/local_volume_database/main/data/gc_ambiguous.csv')\n",
    "gc_mw_new = table.Table.read('https://raw.githubusercontent.com/apace7/local_volume_database/main/data/gc_mw_new.csv')\n",
    "gc_harris = table.Table.read('https://raw.githubusercontent.com/apace7/local_volume_database/main/data/gc_harris.csv')\n"
   ]
  },
  {
   "cell_type": "code",
   "execution_count": 6,
   "id": "f7210083",
   "metadata": {},
   "outputs": [],
   "source": [
    "## local version \n",
    "dsph_mw = table.Table.read('../data/dwarf_mw.csv')\n",
    "dsph_m31 = table.Table.read('../data/dwarf_m31.csv')\n",
    "dsph_lf = table.Table.read('../data/dwarf_local_field.csv')\n",
    "gc_ambiguous = table.Table.read('../data/gc_ambiguous.csv')\n",
    "gc_mw_new = table.Table.read('../data/gc_mw_new.csv')\n",
    "gc_harris = table.Table.read('../data/gc_harris.csv')"
   ]
  },
  {
   "cell_type": "code",
   "execution_count": 7,
   "id": "c2a4a6c2",
   "metadata": {},
   "outputs": [],
   "source": [
    "## load and combine tables\n",
    "## this is for hte NGC 253 lines\n",
    "dwarf_all = table.Table.read('../data/dwarf_all.csv')\n",
    "lf_distant = table.Table.read('../data/dwarf_local_field_distant.csv')\n",
    "\n",
    "## columns have different types so just remove them for this example (they are unused)\n",
    "x = ['ref_proper_motion', 'ref_metallicity_photometric']\n",
    "dwarf_all.remove_columns(x)\n",
    "lf_distant.remove_columns(x)\n",
    "comb = table.vstack((dwarf_all, lf_distant))"
   ]
  },
  {
   "cell_type": "code",
   "execution_count": 8,
   "id": "4b32dcdc",
   "metadata": {},
   "outputs": [
    {
     "data": {
      "text/plain": [
       "20"
      ]
     },
     "execution_count": 8,
     "metadata": {},
     "output_type": "execute_result"
    }
   ],
   "source": [
    "## NGC 253 satellites\n",
    "comb_ngc253 = comb[comb['host']=='ngc_0253']\n",
    "len(comb_ngc253)"
   ]
  },
  {
   "cell_type": "code",
   "execution_count": 9,
   "id": "4aa4efbc",
   "metadata": {},
   "outputs": [
    {
     "data": {
      "text/plain": [
       "(65, 65)"
      ]
     },
     "execution_count": 9,
     "metadata": {},
     "output_type": "execute_result"
    }
   ],
   "source": [
    "## MW satellites (includes LMC)\n",
    "comb_mw_extra = comb[np.logical_or(comb['host']=='mw',comb['host']=='lmc') ]\n",
    "len(comb_mw_extra), len(dsph_mw)"
   ]
  },
  {
   "cell_type": "code",
   "execution_count": 10,
   "id": "f27f28af",
   "metadata": {},
   "outputs": [
    {
     "data": {
      "text/plain": [
       "(40, 40)"
      ]
     },
     "execution_count": 10,
     "metadata": {},
     "output_type": "execute_result"
    }
   ],
   "source": [
    "## MW satellites (includes LMC)\n",
    "comb_m31_extra = comb[np.logical_or(comb['host']=='m_031',comb['host']=='m_033') ]\n",
    "len(comb_m31_extra), len(dsph_m31)\n",
    "## note that this excludes M33 which isn't in the standard table"
   ]
  },
  {
   "cell_type": "code",
   "execution_count": null,
   "id": "e6058b23",
   "metadata": {},
   "outputs": [],
   "source": []
  },
  {
   "cell_type": "code",
   "execution_count": 11,
   "id": "6d50ed42",
   "metadata": {},
   "outputs": [
    {
     "data": {
      "image/png": "[encoded data removed]",
      "text/plain": [
       "<Figure size 640x480 with 1 Axes>"
      ]
     },
     "metadata": {},
     "output_type": "display_data"
    }
   ],
   "source": [
    "## structure is as follows\n",
    "# array to be plotted\n",
    "# color\n",
    "# name\n",
    "## it can be extended to other systems\n",
    "for i,j,k in zip([comb_mw_extra, comb_m31_extra, dsph_lf, comb_ngc253], [color_dsph_mw, color_dsph_m31, color_dsph_lf, 'k',], [label_dsph_mw, label_dsph_m31, label_dsph_lf, r'{\\rm NGC~253~Satellite}']):\n",
    "    sorted_data = np.sort(i['M_V']) \n",
    "    plt.step(sorted_data, np.arange(sorted_data.size), label=k, c=j)\n",
    "    \n",
    "\n",
    "plt.xlim(2.5, -20)\n",
    "plt.yscale('log')\n",
    "plt.xlabel(r'${\\rm  M_V}$')\n",
    "plt.ylabel(r'${\\rm N(<M_V)}$')\n",
    "plt.legend(loc=3)\n",
    "plt.tight_layout()\n",
    "plt.savefig('cumulative_distribution.pdf')\n",
    "plt.show()"
   ]
  },
  {
   "cell_type": "code",
   "execution_count": null,
   "id": "5a9765a1",
   "metadata": {},
   "outputs": [],
   "source": []
  },
  {
   "cell_type": "code",
   "execution_count": null,
   "id": "dce85a5d",
   "metadata": {},
   "outputs": [],
   "source": []
  },
  {
   "cell_type": "code",
   "execution_count": null,
   "id": "faaa7be4",
   "metadata": {},
   "outputs": [],
   "source": []
  }
 ],
 "metadata": {
  "kernelspec": {
   "display_name": "Python 3 (ipykernel)",
   "language": "python",
   "name": "python3"
  },
  "language_info": {
   "codemirror_mode": {
    "name": "ipython",
    "version": 3
   },
   "file_extension": ".py",
   "mimetype": "text/x-python",
   "name": "python",
   "nbconvert_exporter": "python",
   "pygments_lexer": "ipython3",
   "version": "3.12.0"
  }
 },
 "nbformat": 4,
 "nbformat_minor": 5
}
