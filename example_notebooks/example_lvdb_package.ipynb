{
 "cells": [
  {
   "cell_type": "code",
   "execution_count": 1,
   "id": "47a1ed0f",
   "metadata": {},
   "outputs": [],
   "source": [
    "## this notebook shows the functions in the package and their use. "
   ]
  },
  {
   "cell_type": "code",
   "execution_count": 2,
   "id": "b8a5df10",
   "metadata": {},
   "outputs": [],
   "source": [
    "import local_volume_database as lvdb\n",
    "import astropy.table as table"
   ]
  },
  {
   "cell_type": "markdown",
   "id": "26e3295d",
   "metadata": {},
   "source": [
    "## get_citations() example"
   ]
  },
  {
   "cell_type": "code",
   "execution_count": 3,
   "id": "d84169f6",
   "metadata": {},
   "outputs": [],
   "source": [
    "## input for latex table, load locally\n",
    "dsph_mw = table.Table.read('../data/dwarf_mw.csv')"
   ]
  },
  {
   "cell_type": "code",
   "execution_count": 4,
   "id": "84fa45a8",
   "metadata": {},
   "outputs": [],
   "source": [
    "test_system = dsph_mw[dsph_mw['M_V']<-7.7]\n",
    "test_system = test_system[test_system['key']!='lmc']\n",
    "test_system = test_system[test_system['key']!='smc']"
   ]
  },
  {
   "cell_type": "code",
   "execution_count": 5,
   "id": "fb665c2f",
   "metadata": {},
   "outputs": [],
   "source": [
    "reference_column = ['ref_structure', 'ref_distance', 'ref_vlos', 'ref_proper_motion', 'ref_metallicity_spectroscopic', 'ref_structure_king', 'ref_age', 'ref_structure_sersic', 'ref_metallicity_isochrone', 'ref_flux_HI']"
   ]
  },
  {
   "cell_type": "code",
   "execution_count": 6,
   "id": "323f269e",
   "metadata": {},
   "outputs": [],
   "source": [
    "reference_column_short= ['ref_structure', 'ref_distance', 'ref_vlos', 'ref_proper_motion', ]"
   ]
  },
  {
   "cell_type": "code",
   "execution_count": 7,
   "id": "48220f3e",
   "metadata": {},
   "outputs": [
    {
     "name": "stdout",
     "output_type": "stream",
     "text": [
      "Antlia II \\citep{Ji2021ApJ...921...32J, Pace2022ApJ...940..136P, Vivas2022ApJ...926...78V},\n",
      "Canes Venatici I \\citep{Kuehn2008ApJ...674L..81K, Munoz2018ApJ...860...66M, Pace2022ApJ...940..136P, Simon2007ApJ...670..313S},\n",
      "Carina \\citep{Karczmarek2015AJ....150...90K, Munoz2018ApJ...860...66M, Pace2022ApJ...940..136P, Walker2009AJ....137.3100W},\n",
      "Crater II \\citep{Ji2021ApJ...921...32J, Pace2022ApJ...940..136P, Torrealba2016MNRAS.459.2370T},\n",
      "Draco \\citep{Bhardwaj2024AJ....167..247B, Munoz2018ApJ...860...66M, Pace2022ApJ...940..136P, Walker2015MNRAS.448.2717W},\n",
      "Fornax \\citep{Oakes2022ApJ...929..116O, Pace2022ApJ...940..136P, Walker2009AJ....137.3100W, Wang2019ApJ...881..118W},\n",
      "Leo I \\citep{Bennet2024ApJ...971...98B, Mateo2008ApJ...675..201M, Munoz2018ApJ...860...66M, Stetson2014PASP..126..616S},\n",
      "Leo II \\citep{Bellazzini2005MNRAS.360..185B, Bennet2024ApJ...971...98B, Munoz2018ApJ...860...66M, Spencer2017ApJ...836..202S},\n",
      "Sagittarius \\citep{An2024MNRAS.532.3713A, McConnachie2012AJ....144....4M},\n",
      "Sculptor \\citep{MartinezVazquez2015MNRAS.454.1509M, Munoz2018ApJ...860...66M, Pace2022ApJ...940..136P, Walker2009AJ....137.3100W},\n",
      "Sextans \\citep{Lee2009ApJ...703..692L, Munoz2018ApJ...860...66M, Pace2022ApJ...940..136P, Walker2009AJ....137.3100W},\n",
      "Ursa Minor \\citep{Garofalo2024arXiv241012433G, Munoz2018ApJ...860...66M, Pace2022ApJ...940..136P, Spencer2018AJ....156..257S},\n"
     ]
    }
   ],
   "source": [
    "## this lists the unique references for each system, and can be copied into latex\n",
    "lvdb.get_citations(test_system, style='individual', reference_column=reference_column_short)"
   ]
  },
  {
   "cell_type": "code",
   "execution_count": 8,
   "id": "37f855c2",
   "metadata": {},
   "outputs": [
    {
     "name": "stdout",
     "output_type": "stream",
     "text": [
      "\\citep{An2024MNRAS.532.3713A, Bellazzini2005MNRAS.360..185B, Bennet2024ApJ...971...98B, Bhardwaj2024AJ....167..247B, Garofalo2024arXiv241012433G, Ji2021ApJ...921...32J, Karczmarek2015AJ....150...90K, Kuehn2008ApJ...674L..81K, Lee2009ApJ...703..692L, MartinezVazquez2015MNRAS.454.1509M, Mateo2008ApJ...675..201M, McConnachie2012AJ....144....4M, Munoz2018ApJ...860...66M, Oakes2022ApJ...929..116O, Pace2022ApJ...940..136P, Simon2007ApJ...670..313S, Spencer2017ApJ...836..202S, Spencer2018AJ....156..257S, Stetson2014PASP..126..616S, Torrealba2016MNRAS.459.2370T, Vivas2022ApJ...926...78V, Walker2009AJ....137.3100W, Walker2015MNRAS.448.2717W, Wang2019ApJ...881..118W}\n"
     ]
    }
   ],
   "source": [
    "## this lists the unique references for all systems, and can be copied into latex\n",
    "lvdb.get_citations(test_system, style='all', reference_column=reference_column_short )"
   ]
  },
  {
   "cell_type": "code",
   "execution_count": null,
   "id": "3e40aa36",
   "metadata": {},
   "outputs": [],
   "source": []
  },
  {
   "cell_type": "markdown",
   "id": "de31302d",
   "metadata": {},
   "source": [
    "## get_notes() example"
   ]
  },
  {
   "cell_type": "code",
   "execution_count": 9,
   "id": "6fc614b6",
   "metadata": {},
   "outputs": [
    {
     "name": "stdout",
     "output_type": "stream",
     "text": [
      "notes:\t tucana_3\n",
      "tidal tails DrlicaWagner2015ApJ...813..109D + Shipp2018ApJ...862..114S + Li2018ApJ...866...22L\n",
      "classification remains unclear with unresolved velocity dispersion + metallicity dispersion Simon2017ApJ...838...11S ; r-process abundances Hansen2017ApJ...838...44H + Marshall2019ApJ...882..177M ; large size MutluPakdil2018ApJ...863...25M ; inconclusive mass segregation Baumgardt2022MNRAS.510.3531B\n"
     ]
    }
   ],
   "source": [
    "## this lists the notes in the \"notes\" key in the yaml final\n",
    "## there are details on measurements, classifications\n",
    "lvdb.get_notes('tucana_3')"
   ]
  },
  {
   "cell_type": "code",
   "execution_count": 10,
   "id": "4db4c3af",
   "metadata": {},
   "outputs": [
    {
     "name": "stdout",
     "output_type": "stream",
     "text": [
      "no notes tucana_2\n"
     ]
    }
   ],
   "source": [
    "## most systems do not have notes\n",
    "lvdb.get_notes('tucana_2')"
   ]
  },
  {
   "cell_type": "code",
   "execution_count": null,
   "id": "26c5d438",
   "metadata": {},
   "outputs": [],
   "source": []
  },
  {
   "cell_type": "markdown",
   "id": "b4d2d142",
   "metadata": {},
   "source": [
    "## add_column() example"
   ]
  },
  {
   "cell_type": "code",
   "execution_count": 11,
   "id": "8b6d9c0f",
   "metadata": {},
   "outputs": [],
   "source": [
    "## this function adds a column to the catalog using the input yaml files \n",
    "## the inputs are \n",
    "## table to add data to\n",
    "## YAML collection name (these separate out types of measurements)\n",
    "## YAML key in the YAML collection above (these are the actual measurements)\n",
    "## see code/example_yaml.yaml for the layout of the yaml files\n",
    "## or the read the docs page\n",
    "## https://local-volume-database.readthedocs.io/en/latest/usage.html#description-of-yaml-files"
   ]
  },
  {
   "cell_type": "code",
   "execution_count": 12,
   "id": "e63292a4",
   "metadata": {},
   "outputs": [],
   "source": [
    "lvdb.add_column(test_system,'name_discovery','discovery_year', col_type=int)"
   ]
  },
  {
   "cell_type": "code",
   "execution_count": 13,
   "id": "ab4881d7",
   "metadata": {},
   "outputs": [
    {
     "data": {
      "text/html": [
       "<div><i>Table length=12</i>\n",
       "<table id=\"table4536673264\" class=\"table-striped table-bordered table-condensed\">\n",
       "<thead><tr><th>key</th><th>name</th><th>discovery_year</th></tr></thead>\n",
       "<thead><tr><th>str16</th><th>str17</th><th>int64</th></tr></thead>\n",
       "<tr><td>antlia_2</td><td>Antlia II</td><td>2019</td></tr>\n",
       "<tr><td>canes_venatici_1</td><td>Canes Venatici I</td><td>2006</td></tr>\n",
       "<tr><td>carina_1</td><td>Carina</td><td>1977</td></tr>\n",
       "<tr><td>crater_2</td><td>Crater II</td><td>2016</td></tr>\n",
       "<tr><td>draco_1</td><td>Draco</td><td>1955</td></tr>\n",
       "<tr><td>fornax_1</td><td>Fornax</td><td>1938</td></tr>\n",
       "<tr><td>leo_1</td><td>Leo I</td><td>1950</td></tr>\n",
       "<tr><td>leo_2</td><td>Leo II</td><td>1950</td></tr>\n",
       "<tr><td>sagittarius_1</td><td>Sagittarius</td><td>1994</td></tr>\n",
       "<tr><td>sculptor_1</td><td>Sculptor</td><td>1938</td></tr>\n",
       "<tr><td>sextans_1</td><td>Sextans</td><td>1990</td></tr>\n",
       "<tr><td>ursa_minor_1</td><td>Ursa Minor</td><td>1955</td></tr>\n",
       "</table></div>"
      ],
      "text/plain": [
       "<Table length=12>\n",
       "      key              name       discovery_year\n",
       "     str16            str17           int64     \n",
       "---------------- ---------------- --------------\n",
       "        antlia_2        Antlia II           2019\n",
       "canes_venatici_1 Canes Venatici I           2006\n",
       "        carina_1           Carina           1977\n",
       "        crater_2        Crater II           2016\n",
       "         draco_1            Draco           1955\n",
       "        fornax_1           Fornax           1938\n",
       "           leo_1            Leo I           1950\n",
       "           leo_2           Leo II           1950\n",
       "   sagittarius_1      Sagittarius           1994\n",
       "      sculptor_1         Sculptor           1938\n",
       "       sextans_1          Sextans           1990\n",
       "    ursa_minor_1       Ursa Minor           1955"
      ]
     },
     "execution_count": 13,
     "metadata": {},
     "output_type": "execute_result"
    }
   ],
   "source": [
    "test_system['key','name','discovery_year']"
   ]
  },
  {
   "cell_type": "code",
   "execution_count": 14,
   "id": "1b0ab50b",
   "metadata": {},
   "outputs": [],
   "source": [
    "## none of these systems have this measurement in the LVDB\n",
    "lvdb.add_column(test_system,'star_formation_history','tau_50', col_type=float)"
   ]
  },
  {
   "cell_type": "code",
   "execution_count": 15,
   "id": "bfa517fa",
   "metadata": {},
   "outputs": [
    {
     "data": {
      "text/html": [
       "<div><i>Table length=12</i>\n",
       "<table id=\"table4536676240\" class=\"table-striped table-bordered table-condensed\">\n",
       "<thead><tr><th>key</th><th>name</th><th>tau_50</th></tr></thead>\n",
       "<thead><tr><th>str16</th><th>str17</th><th>float64</th></tr></thead>\n",
       "<tr><td>antlia_2</td><td>Antlia II</td><td>--</td></tr>\n",
       "<tr><td>canes_venatici_1</td><td>Canes Venatici I</td><td>--</td></tr>\n",
       "<tr><td>carina_1</td><td>Carina</td><td>--</td></tr>\n",
       "<tr><td>crater_2</td><td>Crater II</td><td>--</td></tr>\n",
       "<tr><td>draco_1</td><td>Draco</td><td>--</td></tr>\n",
       "<tr><td>fornax_1</td><td>Fornax</td><td>--</td></tr>\n",
       "<tr><td>leo_1</td><td>Leo I</td><td>--</td></tr>\n",
       "<tr><td>leo_2</td><td>Leo II</td><td>--</td></tr>\n",
       "<tr><td>sagittarius_1</td><td>Sagittarius</td><td>--</td></tr>\n",
       "<tr><td>sculptor_1</td><td>Sculptor</td><td>--</td></tr>\n",
       "<tr><td>sextans_1</td><td>Sextans</td><td>--</td></tr>\n",
       "<tr><td>ursa_minor_1</td><td>Ursa Minor</td><td>--</td></tr>\n",
       "</table></div>"
      ],
      "text/plain": [
       "<Table length=12>\n",
       "      key              name        tau_50\n",
       "     str16            str17       float64\n",
       "---------------- ---------------- -------\n",
       "        antlia_2        Antlia II      --\n",
       "canes_venatici_1 Canes Venatici I      --\n",
       "        carina_1           Carina      --\n",
       "        crater_2        Crater II      --\n",
       "         draco_1            Draco      --\n",
       "        fornax_1           Fornax      --\n",
       "           leo_1            Leo I      --\n",
       "           leo_2           Leo II      --\n",
       "   sagittarius_1      Sagittarius      --\n",
       "      sculptor_1         Sculptor      --\n",
       "       sextans_1          Sextans      --\n",
       "    ursa_minor_1       Ursa Minor      --"
      ]
     },
     "execution_count": 15,
     "metadata": {},
     "output_type": "execute_result"
    }
   ],
   "source": [
    "test_system['key','name','tau_50']"
   ]
  },
  {
   "cell_type": "code",
   "execution_count": 16,
   "id": "e3a85acc",
   "metadata": {},
   "outputs": [],
   "source": [
    "## a new measurement but all the same\n",
    "lvdb.add_column(test_system,'name_discovery','type', col_type='U25')"
   ]
  },
  {
   "cell_type": "code",
   "execution_count": 17,
   "id": "03dffbca",
   "metadata": {},
   "outputs": [
    {
     "data": {
      "text/html": [
       "<div><i>Table length=12</i>\n",
       "<table id=\"table4536675232\" class=\"table-striped table-bordered table-condensed\">\n",
       "<thead><tr><th>key</th><th>name</th><th>type</th></tr></thead>\n",
       "<thead><tr><th>str16</th><th>str17</th><th>str25</th></tr></thead>\n",
       "<tr><td>antlia_2</td><td>Antlia II</td><td>dSph</td></tr>\n",
       "<tr><td>canes_venatici_1</td><td>Canes Venatici I</td><td>dSph</td></tr>\n",
       "<tr><td>carina_1</td><td>Carina</td><td>dSph</td></tr>\n",
       "<tr><td>crater_2</td><td>Crater II</td><td>dSph</td></tr>\n",
       "<tr><td>draco_1</td><td>Draco</td><td>dSph</td></tr>\n",
       "<tr><td>fornax_1</td><td>Fornax</td><td>dSph</td></tr>\n",
       "<tr><td>leo_1</td><td>Leo I</td><td>dSph</td></tr>\n",
       "<tr><td>leo_2</td><td>Leo II</td><td>dSph</td></tr>\n",
       "<tr><td>sagittarius_1</td><td>Sagittarius</td><td>dSph</td></tr>\n",
       "<tr><td>sculptor_1</td><td>Sculptor</td><td>dSph</td></tr>\n",
       "<tr><td>sextans_1</td><td>Sextans</td><td>dSph</td></tr>\n",
       "<tr><td>ursa_minor_1</td><td>Ursa Minor</td><td>dSph</td></tr>\n",
       "</table></div>"
      ],
      "text/plain": [
       "<Table length=12>\n",
       "      key              name        type\n",
       "     str16            str17       str25\n",
       "---------------- ---------------- -----\n",
       "        antlia_2        Antlia II  dSph\n",
       "canes_venatici_1 Canes Venatici I  dSph\n",
       "        carina_1           Carina  dSph\n",
       "        crater_2        Crater II  dSph\n",
       "         draco_1            Draco  dSph\n",
       "        fornax_1           Fornax  dSph\n",
       "           leo_1            Leo I  dSph\n",
       "           leo_2           Leo II  dSph\n",
       "   sagittarius_1      Sagittarius  dSph\n",
       "      sculptor_1         Sculptor  dSph\n",
       "       sextans_1          Sextans  dSph\n",
       "    ursa_minor_1       Ursa Minor  dSph"
      ]
     },
     "execution_count": 17,
     "metadata": {},
     "output_type": "execute_result"
    }
   ],
   "source": [
    "test_system['key','name','type']"
   ]
  },
  {
   "cell_type": "code",
   "execution_count": null,
   "id": "757cf613",
   "metadata": {},
   "outputs": [],
   "source": []
  }
 ],
 "metadata": {
  "kernelspec": {
   "display_name": "Python 3 (ipykernel)",
   "language": "python",
   "name": "python3"
  },
  "language_info": {
   "codemirror_mode": {
    "name": "ipython",
    "version": 3
   },
   "file_extension": ".py",
   "mimetype": "text/x-python",
   "name": "python",
   "nbconvert_exporter": "python",
   "pygments_lexer": "ipython3",
   "version": "3.12.0"
  }
 },
 "nbformat": 4,
 "nbformat_minor": 5
}
