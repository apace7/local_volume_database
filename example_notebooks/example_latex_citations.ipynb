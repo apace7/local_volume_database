{
 "cells": [
  {
   "cell_type": "markdown",
   "metadata": {},
   "source": [
    "This notebook shows several examples of using the reference columns in the database for adding citations for a paper in latex. \n",
    "\n",
    "The first creates a latex table with labeled references.\n",
    "\n",
    "The second two are latex text blocks with citep for citations.\n",
    "\n",
    "A bibtex file (data/lvdb.bib) is included in the database with entries"
   ]
  },
  {
   "cell_type": "code",
   "execution_count": 1,
   "metadata": {},
   "outputs": [],
   "source": [
    "import corner\n",
    "import numpy as np\n",
    "import matplotlib.pyplot as plt\n",
    "%matplotlib inline\n",
    "\n",
    "import astropy.table as table\n",
    "\n",
    "from collections import Counter"
   ]
  },
  {
   "cell_type": "code",
   "execution_count": 2,
   "metadata": {},
   "outputs": [],
   "source": [
    "## input for latex table\n",
    "dsph_mw = table.Table.read('..//data/dwarf_mw.csv')"
   ]
  },
  {
   "cell_type": "code",
   "execution_count": 3,
   "metadata": {},
   "outputs": [],
   "source": [
    "plt.style.use('../std.mplstyle')\n",
    "import matplotlib as mp\n",
    "mp.rcParams['text.usetex'] = True"
   ]
  },
  {
   "cell_type": "code",
   "execution_count": 4,
   "metadata": {},
   "outputs": [],
   "source": [
    "name = table.Table.read('../data/name_discovery.csv')"
   ]
  },
  {
   "cell_type": "code",
   "execution_count": 5,
   "metadata": {},
   "outputs": [],
   "source": [
    "dsph_mw= table.join(name, dsph_mw, keys='key')\n",
    "## this is to use the name column"
   ]
  },
  {
   "cell_type": "markdown",
   "metadata": {},
   "source": [
    "the file data/lvdb.bib includes a bibtex entry with the correct key for almost entry in the databse\n",
    "\n",
    "there are some missing (that need to be fixed)\n",
    "\n",
    "interal = value added measurement (this almost all surface brightness measurements)\n",
    "\n",
    "EDD = Extragalactic Distance Database http://edd.ifa.hawaii.edu/\n",
    "\n",
    "LVGDB = Local Volume Galaxy Database https://www.sao.ru/lv/lvgdb/ \n"
   ]
  },
  {
   "cell_type": "code",
   "execution_count": 6,
   "metadata": {},
   "outputs": [],
   "source": [
    "import numpy.ma as ma\n",
    "## use  ~ma.is_masked(  ) to check for empty values "
   ]
  },
  {
   "cell_type": "code",
   "execution_count": 7,
   "metadata": {},
   "outputs": [],
   "source": [
    "## this makes a->z plus aa -> zz for labeling citations\n",
    "import string\n",
    "string.ascii_lowercase\n",
    "long_list = list(string.ascii_lowercase)\n",
    "for i in list(string.ascii_lowercase):\n",
    "    for j in list(string.ascii_lowercase):\n",
    "        long_list.append(i+j)"
   ]
  },
  {
   "cell_type": "markdown",
   "metadata": {},
   "source": [
    "this is more is less a script to make the rows of Table 1 of https://ui.adsabs.harvard.edu/abs/2022ApJ...940..136P/abstract \n",
    "\n",
    "this does not include ellipticity or position angle \n",
    "\n",
    "currently need to provide the other parts of the table yourself and copy this into your tex file\n"
   ]
  },
  {
   "cell_type": "code",
   "execution_count": null,
   "metadata": {},
   "outputs": [],
   "source": []
  },
  {
   "cell_type": "code",
   "execution_count": 8,
   "metadata": {
    "scrolled": false
   },
   "outputs": [
    {
     "name": "stdout",
     "output_type": "stream",
     "text": [
      "Antlia II & 143.8079 & -36.6991 & $ 104.60 \\pm 8.60 $ &   $124.1\\pm5.4$ &   $-9.73\\pm0.08$  &   $288.8\\pm0.4$ &  $5.98_{-0.36}_{+0.37}$  &  a,b \\\\\n",
      "Aquarius II & 338.4813 & -9.3274 & $ 5.10 \\pm 0.80 $ &   $107.9\\pm3.3$ &   $-4.36\\pm0.14$  &   $-65.3\\pm1.8$ &  $4.7_{-1.2}_{+1.8}$  &  c,d \\\\\n",
      "Bootes I & 210.0200 & 14.5135 & $ 9.97 \\pm 0.27 $ &   $66.0\\pm3.0$ &   $-6.02\\pm0.25$  &   $101.8\\pm0.7$ &  $4.6_{-0.6}_{+0.8}$  &  e,f,g \\\\\n",
      "Bootes II & 209.5141 & 12.8553 & $ 3.17 \\pm 0.42 $ &   $42.0\\pm1.6$ &   $-2.94\\pm0.25$  &   $-130.4_{-1.1}_{+1.4}$ &  $2.9_{-1.2}_{+1.6}$  &  c,g,h \\\\\n",
      "Bootes III & 209.3000 & 26.8000 & $ 40.60 \\pm 3.80 $ &   $46.5\\pm2.0$ &   $-5.74\\pm0.5$  &   $197.5\\pm3.8$ &  $14.0\\pm3.2$  &  i,j,k,l \\\\\n",
      "Bootes IV & 233.6890 & 43.7260 & $ 7.60 \\pm 0.80 $ &   $209.0_{-18.0}_{+20.0}$ &   $-4.53_{-0.21}_{+0.23}$  &     &     &  m \\\\\n",
      "Bootes V & 213.9090 & 32.9140 & $ 0.76 \\pm 0.07 $ &   $102.0\\pm7.0$ &   $-3.2\\pm0.3$  &   $5.1\\pm13.4$ &     &  n,o \\\\\n",
      "Canes Venatici I & 202.0091 & 33.5521 & $ 7.12 \\pm 0.21 $ &   $210.0_{-5.0}_{+7.0}$ &   $-8.73\\pm0.06$  &   $30.9\\pm0.6$ &  $7.6\\pm0.4$  &  p,g,q \\\\\n",
      "Canes Venatici II & 194.2927 & 34.3226 & $ 1.52 \\pm 0.24 $ &   $160.0_{-5.0}_{+4.0}$ &   $-5.17\\pm0.32$  &   $-128.9\\pm1.2$ &  $4.6\\pm0.8$  &  r,g,q \\\\\n",
      "Carina & 100.4065 & -50.9593 & $ 10.10 \\pm 0.10 $ &   $105.6_{-5.2}_{+5.5}$ &   $-9.43\\pm0.05$  &   $222.9\\pm0.1$ &  $6.6\\pm1.2$  &  s,g,t \\\\\n",
      "Carina II & 114.1066 & -57.9991 & $ 8.69 \\pm 0.75 $ &   $37.4\\pm0.4$ &   $-4.57\\pm0.1$  &   $477.2\\pm1.2$ &  $3.4_{-0.8}_{+1.2}$  &  u,v \\\\\n",
      "Carina III & 114.6298 & -57.8997 & $ 3.75 \\pm 1.00 $ &   $27.8\\pm0.6$ &   $-2.4\\pm0.2$  &   $284.6_{-3.1}_{+3.4}$ &  $5.6_{-2.1}_{+4.3}$  &  u,v \\\\\n",
      "Centaurus I & 189.5850 & -40.9020 & $ 2.90 \\pm 0.40 $ &   $116.3_{-0.6}_{+1.6}$ &   $-5.55\\pm0.11$  &   $44.8\\pm0.8$ &  $4.2_{-0.5}_{+0.6}$  &  w,x \\\\\n",
      "Cetus II & 19.4700 & -17.4200 & $ 1.90 \\pm 0.50 $ &   $30.0\\pm3.0$ &   $0.0\\pm0.68$  &     &     &  y \\\\\n",
      "Cetus III & 31.3310 & -4.2700 & $ 1.23 \\pm 0.19 $ &   $251.0_{-11.0}_{+24.0}$ &   $-2.45_{-0.56}_{+0.57}$  &     &     &  z \\\\\n",
      "Columba & 82.8570 & -28.0425 & $ 2.20 \\pm 0.20 $ &   $183.0\\pm10.0$ &   $-4.2\\pm0.2$  &   $153.7\\pm4.9$ &  $<6.7$ &   &  aa,ab \\\\\n",
      "Coma Berenices & 186.7454 & 23.9069 & $ 5.64 \\pm 0.30 $ &   $42.0_{-1.0}_{+2.0}$ &   $-4.29\\pm0.25$  &   $98.1\\pm0.9$ &  $4.6\\pm0.8$  &  g,ac,q \\\\\n",
      "Crater II & 177.3100 & -18.4130 & $ 31.20 \\pm 2.50 $ &   $117.5\\pm1.1$ &   $-8.2\\pm0.1$  &   $89.3\\pm0.3$ &  $2.34_{-0.3}_{+0.42}$  &  a,ad \\\\\n",
      "Draco & 260.0684 & 57.9185 & $ 9.67 \\pm 0.09 $ &   $80.5\\pm2.6$ &   $-8.84\\pm0.05$  &   $-290.7\\pm0.75$ &  $9.1\\pm1.2$  &  g,ae,af \\\\\n",
      "Eridanus II & 56.0925 & -43.5329 & $ 2.31 \\pm 0.12 $ &   $366.0\\pm17.0$ &   $-7.1\\pm0.3$  &   $75.6\\pm1.3$ &  $6.9_{-0.9}_{+1.2}$  &  ag,ah \\\\\n",
      "Eridanus IV & 76.4380 & -9.5150 & $ 4.90 \\pm 0.80 $ &   $76.7_{-6.1}_{+4.0}$ &   $-4.7\\pm0.2$  &   $-31.5_{-1.2}_{+1.3}$ &  $6.1_{-0.9}_{+1.2}$  &  ai,w \\\\\n",
      "Fornax & 39.9583 & -34.4997 & $ 19.90 \\pm 0.06 $ &   $143.0\\pm3.0$ &   $-13.393\\pm0.2$  &   $55.2\\pm0.1$ &  $12.1\\pm0.2$  &  g,aj,t,ak \\\\\n",
      "Grus I & 344.1660 & -50.1680 & $ 4.16 \\pm 0.74 $ &   $127.0\\pm6.0$ &   $-4.13\\pm0.3$  &   $-143.5\\pm1.2$ &  $2.5_{-0.8}_{+1.3}$  &  al,am,an \\\\\n",
      "Grus II & 331.0250 & -46.4420 & $ 5.90 \\pm 0.50 $ &   $55.0\\pm2.0$ &   $-3.5\\pm0.3$  &   $-110.0\\pm0.5$ &  $<2.0$ &   &  an,ao \\\\\n",
      "Hercules & 247.7722 & 12.7852 & $ 5.63 \\pm 0.46 $ &   $130.6\\pm6.1$ &   $-5.807\\pm0.17$  &   $45.0\\pm1.1$ &  $5.1\\pm0.9$  &  g,ap,q \\\\\n",
      "Horologium I & 43.8813 & -54.1160 & $ 1.70 \\pm 0.10 $ &   $79.0\\pm4.0$ &   $-3.4\\pm0.1$  &   $112.8_{-2.6}_{+2.5}$ &  $4.9_{-0.9}_{+2.8}$  &  aq,ar,l \\\\\n",
      "Horologium II & 49.1077 & -50.0486 & $ 2.09 \\pm 0.41 $ &   $78.0\\pm8.0$ &   $-2.6_{-0.3}_{+0.2}$  &     &     &  as \\\\\n",
      "Hydra II & 185.4251 & -31.9860 & $ 1.70 \\pm 0.20 $ &   $151.0\\pm8.0$ &   $-5.1\\pm0.3$  &   $303.1\\pm1.4$ &  $<4.5$ &   &  at,au,av \\\\\n",
      "Hydrus I & 37.3890 & -79.3089 & $ 7.42 \\pm 0.54 $ &   $27.6\\pm0.5$ &   $-4.71\\pm0.08$  &   $80.4\\pm0.6$ &  $2.7_{-0.43}_{+0.51}$  &  aw \\\\\n",
      "Leo I & 152.1146 & 12.3059 & $ 3.65 \\pm 0.03 $ &   $258.2_{-9.3}_{+9.7}$ &   $-11.82\\pm0.28$  &   $282.9\\pm0.5$ &  $9.2\\pm0.4$  &  ax,g,ay \\\\\n",
      "Leo II & 168.3627 & 22.1529 & $ 2.52 \\pm 0.03 $ &   $233.0\\pm15.0$ &   $-9.72\\pm0.04$  &   $78.5\\pm0.6$ &  $7.4\\pm0.4$  &  az,g,ba \\\\\n",
      "Leo IV & 173.2405 & -0.5453 & $ 2.54 \\pm 0.27 $ &   $151.4\\pm4.4$ &   $-4.95\\pm0.26$  &   $131.6_{-1.2}_{+1.0}$ &  $3.4_{-0.9}_{+1.3}$  &  bb,bc,g \\\\\n",
      "Leo V & 172.7857 & 2.2194 & $ 1.00 \\pm 0.32 $ &   $169.0\\pm4.4$ &   $-4.4\\pm0.36$  &   $173.1_{-0.8}_{+1.0}$ &  $0.1_{-0.1}_{+1.5}$  &  bb,bc,g \\\\\n",
      "Leo Minor I & 164.2610 & 28.8750 & $ 1.09 \\pm 0.35 $ &   $82.0_{-7.0}_{+4.0}$ &   $-2.4_{-0.4}_{+0.5}$  &     &     &  n \\\\\n",
      "Pegasus III & 336.1074 & 5.4150 & $ 1.67 \\pm 0.21 $ &   $215.0\\pm12.0$ &   $-4.17_{-0.22}_{+0.19}$  &   $-222.9\\pm2.6$ &  $5.4_{-2.5}_{+3.0}$  &  bd,be \\\\\n",
      "Pegasus IV & 328.5390 & 26.6200 & $ 1.60 \\pm 0.25 $ &   $90.0_{-6.0}_{+4.0}$ &   $-4.25\\pm0.2$  &   $-273.6_{-1.5}_{+1.6}$ &  $3.3_{-1.1}_{+1.7}$  &  bf \\\\\n",
      "Phoenix II & 354.9960 & -54.4115 & $ 1.50 \\pm 0.30 $ &   $84.1\\pm8.0$ &   $-2.7\\pm0.4$  &   $32.4\\pm3.75$ &  $<21.2$ &   &  ab,bg \\\\\n",
      "Pictor I & 70.9475 & -50.2831 & $ 1.29 \\pm 0.15 $ &   $114.9\\pm5.5$ &   $-3.1\\pm0.3$  &     &     &  aq,l \\\\\n",
      "Pictor II & 101.1800 & -59.8970 & $ 3.80 \\pm 1.00 $ &   $45.0_{-4.0}_{+5.0}$ &   $-3.2_{-0.5}_{+0.4}$  &     &     &  bh \\\\\n",
      "Pisces II & 344.6365 & 5.9555 & $ 1.34 \\pm 0.07 $ &   $183.0\\pm15.0$ &   $-4.28_{-0.16}_{+0.19}$  &   $-226.5\\pm2.7$ &  $5.4_{-2.4}_{+3.6}$  &  at,be,bi \\\\\n",
      "Reticulum II & 53.9203 & -54.0513 & $ 6.30 \\pm 0.40 $ &   $31.4\\pm1.4$ &   $-3.1\\pm0.1$  &   $64.3\\pm1.2$ &  $3.6_{-0.7}_{+1.0}$  &  bg,bj \\\\\n",
      "Reticulum III & 56.3600 & -60.4500 & $ 2.40 \\pm 0.80 $ &   $92.0\\pm13.0$ &   $-3.3\\pm0.29$  &   $274.2\\pm7.45$ &  $<8.3$ &   &  y,ab \\\\\n",
      "Sagittarius & 283.8313 & -30.5454 & $ 342.00 \\pm 12.00 $ &   $26.3\\pm2.0$ &   $-13.5\\pm0.3$  &   $140.0\\pm2.0$ &  $11.4\\pm0.7$  &  bk \\\\\n",
      "Sculptor & 15.0183 & -33.7186 & $ 11.17 \\pm 0.05 $ &   $83.9\\pm1.5$ &   $-10.77\\pm0.14$  &   $111.4\\pm0.1$ &  $9.2\\pm1.1$  &  bl,g,t \\\\\n",
      "Segue 1 & 151.7504 & 16.0756 & $ 3.62 \\pm 0.42 $ &   $23.0\\pm2.0$ &   $-1.3\\pm0.73$  &   $208.5\\pm0.9$ &  $3.7_{-1.1}_{+1.4}$  &  bm,g,bn \\\\\n",
      "Segue 2 & 34.8226 & 20.1624 & $ 3.76 \\pm 0.28 $ &   $36.6_{-2.4}_{+2.5}$ &   $-1.95\\pm0.88$  &   $-40.2\\pm0.9$ &  $<2.6$ &   &  bo,bp,g \\\\\n",
      "Sextans & 153.2628 & -1.6133 & $ 16.50 \\pm 0.10 $ &   $86.0\\pm4.0$ &   $-8.72\\pm0.06$  &   $224.3\\pm0.1$ &  $7.9\\pm1.3$  &  bq,g,t \\\\\n",
      "Triangulum II & 33.3252 & 36.1702 & $ 2.50 \\pm 0.30 $ &   $28.4\\pm1.6$ &   $-1.2\\pm0.4$  &   $-381.7\\pm1.1$ &  $<4.2$ &   &  aa,br \\\\\n",
      "Tucana II & 342.9796 & -58.5689 & $ 12.89 \\pm 1.98 $ &   $56.0\\pm5.0$ &   $-3.75\\pm0.1$  &   $-124.7\\pm1.0$ &  $3.8_{-0.7}_{+1.1}$  &  bs,aq,bt \\\\\n",
      "Tucana III & 359.1075 & -59.5833 & $ 5.10 \\pm 1.20 $ &   $22.9\\pm0.9$ &   $-1.3\\pm0.2$  &   $-102.3\\pm0.4$ &  $<1.5$ &   &  bg,bu \\\\\n",
      "Tucana IV & 0.7170 & -60.8300 & $ 9.30 \\pm 0.90 $ &   $47.0\\pm4.0$ &   $-3.0_{-0.4}_{+0.3}$  &   $15.9_{-1.7}_{+1.8}$ &  $4.3_{-1.0}_{+1.7}$  &  ao \\\\\n",
      "Tucana V & 354.3470 & -63.2660 & $ 2.10 \\pm 0.40 $ &   $55.0_{-8.0}_{+3.0}$ &   $-1.1_{-0.6}_{+0.5}$  &   $-36.2_{-2.2}_{+2.5}$ &  $<7.4$ &   &  ao \\\\\n",
      "Ursa Major I & 158.7706 & 51.9479 & $ 8.31 \\pm 0.35 $ &   $97.3_{-5.7}_{+6.0}$ &   $-5.14\\pm0.38$  &   $-55.3\\pm1.4$ &  $7.0\\pm1.0$  &  bv,g,q \\\\\n",
      "Ursa Major II & 132.8726 & 63.1335 & $ 13.80 \\pm 0.50 $ &   $34.7_{-2.0}_{+2.1}$ &   $-4.42\\pm0.26$  &   $-116.5\\pm1.9$ &  $6.7\\pm1.4$  &  bw,g,q \\\\\n",
      "Ursa Minor & 227.2420 & 67.2221 & $ 18.30 \\pm 0.11 $ &   $66.0\\pm3.0$ &   $-8.73\\pm0.05$  &   $-247.0\\pm0.4$ &  $8.6\\pm0.3$  &  g,bx,by \\\\\n",
      "Virgo I & 180.0380 & -0.6810 & $ 1.76 \\pm 0.40 $ &   $91.0_{-4.0}_{+9.0}$ &   $-0.33_{-0.87}_{+0.75}$  &     &     &  z \\\\\n",
      "Virgo II & 225.0590 & 5.9090 & $ 0.74 \\pm 0.11 $ &   $72.0_{-7.0}_{+8.0}$ &   $-1.6_{-0.6}_{+0.4}$  &     &     &  n \\\\\n",
      "Willman 1 & 162.3436 & 51.0501 & $ 2.51 \\pm 0.22 $ &   $38.0\\pm7.0$ &   $-2.53\\pm0.74$  &   $-14.1\\pm1.0$ &  $4.0\\pm0.8$  &  g,bz,ca \\\\\n"
     ]
    }
   ],
   "source": [
    "## this creates each row for a table with the following entries (there are better ways to do this)\n",
    "## name (key currently)\n",
    "## ra\n",
    "## dec\n",
    "## rhalf (in arcmin and major axis)\n",
    "## distance (kpc)\n",
    "## MV\n",
    "## velocity (or empty if no velocity)\n",
    "## citations for the previous entries\n",
    "citations = []\n",
    "letter = []\n",
    "for i in range(len(dsph_mw)):\n",
    "\n",
    "    if ma.is_masked(dsph_mw['vlos_sigma_em'][i])==True and ma.is_masked(dsph_mw['vlos_sigma_ul'][i])==True: \n",
    "        str_sigma = ' '\n",
    "    elif ma.is_masked(dsph_mw['vlos_sigma_ul'][i])==False:\n",
    "        str_sigma = '$<' + str(dsph_mw['vlos_sigma_ul'][i]) +'$ & '\n",
    "    else:\n",
    "        str_sigma ='$'+str(dsph_mw['vlos_sigma'][i])\n",
    "        if dsph_mw['vlos_sigma_em'][i] == dsph_mw['vlos_sigma_ep'][i]:\n",
    "            str_sigma+='\\\\pm'+str(dsph_mw['vlos_sigma_em'][i])+'$'\n",
    "        else:\n",
    "            str_sigma+='_{-'+str(dsph_mw['vlos_sigma_em'][i]) + '}_{+' +str(dsph_mw['vlos_sigma_ep'][i]) +'}$'\n",
    "    \n",
    "    if ma.is_masked(dsph_mw['vlos_systemic'][i])==True: \n",
    "        vlos_string = ' '\n",
    "    else:\n",
    "        vlos_string ='$'+str(dsph_mw['vlos_systemic'][i])\n",
    "        if dsph_mw['vlos_systemic_em'][i] == dsph_mw['vlos_systemic_ep'][i]:\n",
    "            vlos_string+='\\\\pm'+str(dsph_mw['vlos_systemic_em'][i])+'$'\n",
    "        else:\n",
    "            vlos_string+='_{-'+str(dsph_mw['vlos_systemic_em'][i]) + '}_{+' +str(dsph_mw['vlos_systemic_ep'][i]) +'}$'\n",
    "    \n",
    "    letter_to_list = []\n",
    "    \n",
    "    ## this adds combines all the citations per object that this table is using\n",
    "    cite_temp = []\n",
    "    if ~ma.is_masked(dsph_mw['ref_structure'][i]):\n",
    "        cite_temp.append(dsph_mw['ref_structure'][i])\n",
    "    if ~ma.is_masked(dsph_mw['ref_distance'][i]):\n",
    "        cite_temp.append(dsph_mw['ref_distance'][i])\n",
    "    if ~ma.is_masked(dsph_mw['ref_mv'][i]):\n",
    "        cite_temp.append(dsph_mw['ref_mv'][i])\n",
    "    if ~ma.is_masked(dsph_mw['ref_vlos'][i]):\n",
    "        cite_temp.append(dsph_mw['ref_vlos'][i])\n",
    "    \n",
    "    ## unique entries\n",
    "    cite_temp2 = np.unique(cite_temp)\n",
    "    \n",
    "    ## this checks if a citation has already been used and pulls it, otherwise it finds the next letter to assign to a citation \n",
    "    for tt in cite_temp2:\n",
    "        if len(tt)<5:\n",
    "            continue\n",
    "        if tt in  citations:\n",
    "            letter_to_list.append(letter[citations.index(tt)])\n",
    "        else:\n",
    "            citations.append(tt)\n",
    "            letter_to_list.append(long_list[len(letter)])\n",
    "            letter.append(long_list[len(letter)])\n",
    "\n",
    "    letter_to_list_string = \"\"\n",
    "    if len(letter_to_list)>0:\n",
    "        for kk in letter_to_list:\n",
    "            letter_to_list_string+=kk  +','\n",
    "        letter_to_list_string = letter_to_list_string[:-1]\n",
    "    \n",
    "    distance_string = '$'+str(dsph_mw['distance'][i])\n",
    "    if dsph_mw['distance_em'][i] == dsph_mw['distance_ep'][i]:\n",
    "        distance_string+='\\\\pm'+str(dsph_mw['distance_em'][i])+'$'\n",
    "    else:\n",
    "        distance_string+='_{-'+str(dsph_mw['distance_em'][i]) + '}_{+' +str(dsph_mw['distance_ep'][i]) +'}$'\n",
    "        \n",
    "    MV_string = '$'+str(dsph_mw['MV'][i])\n",
    "    if dsph_mw['MV_em'][i] == dsph_mw['MV_ep'][i]:\n",
    "        MV_string+='\\\\pm'+str(dsph_mw['MV_em'][i])+'$'\n",
    "    else:\n",
    "        MV_string+='_{-'+str(dsph_mw['MV_em'][i]) + '}_{+' +str(dsph_mw['MV_ep'][i]) +'}$'\n",
    "    \n",
    "    ## output each row of our table, plus the citations at the end of the line\n",
    "    print(dsph_mw['name'][i] , '&',\"{:0.4f}\".format(dsph_mw['ra'][i]),'&',\"{:0.4f}\".format(dsph_mw['dec'][i]),\n",
    "         '& $', \"{:0.2f}\".format(dsph_mw['rhalf'][i]),'\\\\pm',\"{:0.2f}\".format(dsph_mw['rhalf_em'][i]), '$ & ',\n",
    "         \n",
    "         '', distance_string, '& ',\n",
    "          '', MV_string, ' & ',\n",
    "         '', vlos_string, '& ',\n",
    "           str_sigma, ' & ', letter_to_list_string,\n",
    "          '\\\\\\\\')"
   ]
  },
  {
   "cell_type": "code",
   "execution_count": 9,
   "metadata": {
    "scrolled": true
   },
   "outputs": [
    {
     "name": "stdout",
     "output_type": "stream",
     "text": [
      "(a) \\citet{Ji2021ApJ...921...32J}\n",
      "(b) \\citet{Vivas2022ApJ...926...78V}\n",
      "(c) \\citet{Bruce2023ApJ...950..167B}\n",
      "(d) \\citet{Torrealba2016MNRAS.463..712T}\n",
      "(e) \\citet{DallOra2006ApJ...653L.109D}\n",
      "(f) \\citet{Koposov2011ApJ...736..146K}\n",
      "(g) \\citet{Munoz2018ApJ...860...66M}\n",
      "(h) \\citet{Walsh2008ApJ...688..245W}\n",
      "(i) \\citet{Carlin2009ApJ...702L...9C}\n",
      "(j) \\citet{Carlin2018ApJ...865....7C}\n",
      "(k) \\citet{Correnti2009MNRAS.397L..26C}\n",
      "(l) \\citet{Moskowitz2020ApJ...892...27M}\n",
      "(m) \\citet{Homma2019PASJ...71...94H}\n",
      "(n) \\citet{Cerny2023ApJ...953....1C}\n",
      "(o) \\citet{Smith2023AJ....166...76S}\n",
      "(p) \\citet{Kuehn2008ApJ...674L..81K}\n",
      "(q) \\citet{Simon2007ApJ...670..313S}\n",
      "(r) \\citet{Greco2008ApJ...675L..73G}\n",
      "(s) \\citet{Karczmarek2015AJ....150...90K}\n",
      "(t) \\citet{Walker2009AJ....137.3100W}\n",
      "(u) \\citet{Li2018ApJ...857..145L}\n",
      "(v) \\citet{Torrealba2018MNRAS.475.5085T}\n",
      "(w) \\citet{Heiger2023arXiv230808602H}\n",
      "(x) \\citet{Mau2020ApJ...890..136M}\n",
      "(y) \\citet{DrlicaWagner2015ApJ...813..109D}\n",
      "(z) \\citet{Homma2018PASJ...70S..18H}\n",
      "(aa) \\citet{Carlin2017AJ....154..267C}\n",
      "(ab) \\citet{Fritz2019A&A...623A.129F}\n",
      "(ac) \\citet{Musella2009ApJ...695L..83M}\n",
      "(ad) \\citet{Torrealba2016MNRAS.459.2370T}\n",
      "(ae) \\citet{Muraveva2020MNRAS.499.4040M}\n",
      "(af) \\citet{Walker2015MNRAS.448.2717W}\n",
      "(ag) \\citet{Crnojevic2016ApJ...824L..14C}\n",
      "(ah) \\citet{Li2017ApJ...838....8L}\n",
      "(ai) \\citet{Cerny2021ApJ...920L..44C}\n",
      "(aj) \\citet{Oakes2022ApJ...929..116O}\n",
      "(ak) \\citet{Wang2019ApJ...881..118W}\n",
      "(al) \\citet{Cantu2021ApJ...916...81C}\n",
      "(am) \\citet{Chiti2022ApJ...939...41C}\n",
      "(an) \\citet{MartinezVazquez2019MNRAS.490.2183M}\n",
      "(ao) \\citet{Simon2020ApJ...892..137S}\n",
      "(ap) \\citet{MutluPakdil2020ApJ...902..106M}\n",
      "(aq) \\citet{Koposov2015ApJ...805..130K}\n",
      "(ar) \\citet{Koposov2015ApJ...811...62K}\n",
      "(as) \\citet{Kim2015ApJ...808L..39K}\n",
      "(at) \\citet{Kirby2015ApJ...810...56K}\n",
      "(au) \\citet{Martin2015ApJ...804L...5M}\n",
      "(av) \\citet{Vivas2016AJ....151..118V}\n",
      "(aw) \\citet{Koposov2018MNRAS.479.5343K}\n",
      "(ax) \\citet{Mateo2008ApJ...675..201M}\n",
      "(ay) \\citet{Stetson2014PASP..126..616S}\n",
      "(az) \\citet{Bellazzini2005MNRAS.360..185B}\n",
      "(ba) \\citet{Spencer2017ApJ...836..202S}\n",
      "(bb) \\citet{Jenkins2021ApJ...920...92J}\n",
      "(bc) \\citet{Medina2018ApJ...855...43M}\n",
      "(bd) \\citet{Kim2016ApJ...833...16K}\n",
      "(be) \\citet{Richstein2022ApJ...933..217R}\n",
      "(bf) \\citet{Cerny2023ApJ...942..111C}\n",
      "(bg) \\citet{MutluPakdil2018ApJ...863...25M}\n",
      "(bh) \\citet{DrlicaWagner2016ApJ...833L...5D}\n",
      "(bi) \\citet{Sand2012ApJ...756...79S}\n",
      "(bj) \\citet{Walker2015ApJ...808..108W}\n",
      "(bk) \\citet{McConnachie2012AJ....144....4M}\n",
      "(bl) \\citet{MartinezVazquez2015MNRAS.454.1509M}\n",
      "(bm) \\citet{Belokurov2007ApJ...654..897B}\n",
      "(bn) \\citet{Simon2011ApJ...733...46S}\n",
      "(bo) \\citet{Boettcher2013AJ....146...94B}\n",
      "(bp) \\citet{Kirby2013ApJ...770...16K}\n",
      "(bq) \\citet{Lee2009ApJ...703..692L}\n",
      "(br) \\citet{Kirby2017ApJ...838...83K}\n",
      "(bs) \\citet{Chiti2023AJ....165...55C}\n",
      "(bt) \\citet{Vivas2020ApJS..247...35V}\n",
      "(bu) \\citet{Simon2017ApJ...838...11S}\n",
      "(bv) \\citet{Garofalo2013ApJ...767...62G}\n",
      "(bw) \\citet{DallOra2012ApJ...752...42D}\n",
      "(bx) \\citet{Nemec1988AJ.....96..528N}\n",
      "(by) \\citet{Spencer2018AJ....156..257S}\n",
      "(bz) \\citet{Willman2006astro.ph..3486W}\n",
      "(ca) \\citet{Willman2011AJ....142..128W}\n"
     ]
    }
   ],
   "source": [
    "## this is the list of citationsm for the table above\n",
    "for i,j in zip(letter, citations):\n",
    "#     print(i, j)\n",
    "    print( \"(\"+i+\") \\citet{\"+j+\"}\",)"
   ]
  },
  {
   "cell_type": "code",
   "execution_count": null,
   "metadata": {},
   "outputs": [],
   "source": []
  },
  {
   "cell_type": "code",
   "execution_count": 10,
   "metadata": {},
   "outputs": [],
   "source": [
    "## size - luminosity plot again"
   ]
  },
  {
   "cell_type": "code",
   "execution_count": 11,
   "metadata": {},
   "outputs": [
    {
     "data": {
      "image/png": "[encoded data removed]",
      "text/plain": [
       "<Figure size 432x288 with 1 Axes>"
      ]
     },
     "metadata": {
      "needs_background": "light"
     },
     "output_type": "display_data"
    }
   ],
   "source": [
    "plt.errorbar(dsph_mw['rhalf_sph_physical'], dsph_mw['MV'], fmt='o', label=r'${\\rm MW}$', )\n",
    "\n",
    "plt.gca().set_xscale('log')\n",
    "plt.gca().invert_yaxis()\n",
    "plt.gca().set_xlabel(r'$r_{1/2}~({\\rm pc})$')\n",
    "plt.gca().set_ylabel(r'$M_V$')\n",
    "plt.legend(loc=(1,0))\n",
    "plt.ylim(2, -20)\n",
    "plt.show()"
   ]
  },
  {
   "cell_type": "code",
   "execution_count": null,
   "metadata": {},
   "outputs": [],
   "source": []
  },
  {
   "cell_type": "code",
   "execution_count": 12,
   "metadata": {},
   "outputs": [
    {
     "name": "stdout",
     "output_type": "stream",
     "text": [
      "Antlia II \\citep{Ji2021ApJ...921...32J, Vivas2022ApJ...926...78V},\n",
      "Aquarius II \\citep{Torrealba2016MNRAS.463..712T},\n",
      "Bootes I \\citep{DallOra2006ApJ...653L.109D, Munoz2018ApJ...860...66M},\n",
      "Bootes II \\citep{Munoz2018ApJ...860...66M, Walsh2008ApJ...688..245W},\n",
      "Bootes III \\citep{Carlin2018ApJ...865....7C, Correnti2009MNRAS.397L..26C, Moskowitz2020ApJ...892...27M},\n",
      "Bootes IV \\citep{Homma2019PASJ...71...94H},\n",
      "Bootes V \\citep{Cerny2023ApJ...953....1C},\n",
      "Canes Venatici I \\citep{Kuehn2008ApJ...674L..81K, Munoz2018ApJ...860...66M},\n",
      "Canes Venatici II \\citep{Greco2008ApJ...675L..73G, Munoz2018ApJ...860...66M},\n",
      "Carina \\citep{Karczmarek2015AJ....150...90K, Munoz2018ApJ...860...66M},\n",
      "Carina II \\citep{Torrealba2018MNRAS.475.5085T},\n",
      "Carina III \\citep{Torrealba2018MNRAS.475.5085T},\n",
      "Centaurus I \\citep{Mau2020ApJ...890..136M},\n",
      "Cetus II \\citep{DrlicaWagner2015ApJ...813..109D},\n",
      "Cetus III \\citep{Homma2018PASJ...70S..18H},\n",
      "Columba \\citep{Carlin2017AJ....154..267C},\n",
      "Coma Berenices \\citep{Munoz2018ApJ...860...66M, Musella2009ApJ...695L..83M},\n",
      "Crater II \\citep{Torrealba2016MNRAS.459.2370T},\n",
      "Draco \\citep{Munoz2018ApJ...860...66M, Muraveva2020MNRAS.499.4040M},\n",
      "Eridanus II \\citep{Crnojevic2016ApJ...824L..14C},\n",
      "Eridanus IV \\citep{Cerny2021ApJ...920L..44C},\n",
      "Fornax \\citep{Munoz2018ApJ...860...66M, Oakes2022ApJ...929..116O, Wang2019ApJ...881..118W},\n",
      "Grus I \\citep{Cantu2021ApJ...916...81C, MartinezVazquez2019MNRAS.490.2183M},\n",
      "Grus II \\citep{MartinezVazquez2019MNRAS.490.2183M, Simon2020ApJ...892..137S},\n",
      "Hercules \\citep{Munoz2018ApJ...860...66M, MutluPakdil2020ApJ...902..106M},\n",
      "Horologium I \\citep{Koposov2015ApJ...805..130K, Moskowitz2020ApJ...892...27M},\n",
      "Horologium II \\citep{Kim2015ApJ...808L..39K},\n",
      "Hydra II \\citep{Martin2015ApJ...804L...5M, Vivas2016AJ....151..118V},\n",
      "Hydrus I \\citep{Koposov2018MNRAS.479.5343K},\n",
      "Leo I \\citep{Munoz2018ApJ...860...66M, Stetson2014PASP..126..616S},\n",
      "Leo II \\citep{Bellazzini2005MNRAS.360..185B, Munoz2018ApJ...860...66M},\n",
      "Leo IV \\citep{Medina2018ApJ...855...43M, Munoz2018ApJ...860...66M},\n",
      "Leo V \\citep{Medina2018ApJ...855...43M, Munoz2018ApJ...860...66M},\n",
      "Leo Minor I \\citep{Cerny2023ApJ...953....1C},\n",
      "Pegasus III \\citep{Kim2016ApJ...833...16K, Richstein2022ApJ...933..217R},\n",
      "Pegasus IV \\citep{Cerny2023ApJ...942..111C},\n",
      "Phoenix II \\citep{MutluPakdil2018ApJ...863...25M},\n",
      "Pictor I \\citep{Koposov2015ApJ...805..130K, Moskowitz2020ApJ...892...27M},\n",
      "Pictor II \\citep{DrlicaWagner2016ApJ...833L...5D},\n",
      "Pisces II \\citep{Richstein2022ApJ...933..217R, Sand2012ApJ...756...79S},\n",
      "Reticulum II \\citep{MutluPakdil2018ApJ...863...25M},\n",
      "Reticulum III \\citep{DrlicaWagner2015ApJ...813..109D},\n",
      "Sagittarius \\citep{McConnachie2012AJ....144....4M},\n",
      "Sculptor \\citep{MartinezVazquez2015MNRAS.454.1509M, Munoz2018ApJ...860...66M},\n",
      "Segue 1 \\citep{Belokurov2007ApJ...654..897B, Munoz2018ApJ...860...66M},\n",
      "Segue 2 \\citep{Boettcher2013AJ....146...94B, Munoz2018ApJ...860...66M},\n",
      "Sextans \\citep{Lee2009ApJ...703..692L, Munoz2018ApJ...860...66M},\n",
      "Triangulum II \\citep{Carlin2017AJ....154..267C},\n",
      "Tucana II \\citep{Koposov2015ApJ...805..130K, Vivas2020ApJS..247...35V},\n",
      "Tucana III \\citep{MutluPakdil2018ApJ...863...25M},\n",
      "Tucana IV \\citep{Simon2020ApJ...892..137S},\n",
      "Tucana V \\citep{Simon2020ApJ...892..137S},\n",
      "Ursa Major I \\citep{Garofalo2013ApJ...767...62G, Munoz2018ApJ...860...66M},\n",
      "Ursa Major II \\citep{DallOra2012ApJ...752...42D, Munoz2018ApJ...860...66M},\n",
      "Ursa Minor \\citep{Munoz2018ApJ...860...66M, Nemec1988AJ.....96..528N},\n",
      "Virgo I \\citep{Homma2018PASJ...70S..18H},\n",
      "Virgo II \\citep{Cerny2023ApJ...953....1C},\n",
      "Willman 1 \\citep{Munoz2018ApJ...860...66M, Willman2006astro.ph..3486W},\n"
     ]
    }
   ],
   "source": [
    "## this creates latex citep for each dwarf galaxy that is input for the  rhalf and MV plot above\n",
    "## of course for a publication \n",
    "for i in range(len(dsph_mw)):\n",
    "\n",
    "    ## this adds combines all the citations per object that this table is using\n",
    "    cite_temp = []\n",
    "    if ~ma.is_masked(dsph_mw['ref_structure'][i]):\n",
    "        cite_temp.append(dsph_mw['ref_structure'][i])\n",
    "    if ~ma.is_masked(dsph_mw['ref_distance'][i]):\n",
    "        cite_temp.append(dsph_mw['ref_distance'][i])\n",
    "    if ~ma.is_masked(dsph_mw['ref_mv'][i]):\n",
    "        cite_temp.append(dsph_mw['ref_mv'][i])\n",
    "    \n",
    "    ## unique entries\n",
    "    cite_temp2 = np.unique(cite_temp)\n",
    "    out =''\n",
    "    for temp in cite_temp2:\n",
    "        out+=temp+', '\n",
    "        \n",
    "    print(dsph_mw['name'][i], \"\\citep{\"+out[:-2]+\"}\" +',')"
   ]
  },
  {
   "cell_type": "code",
   "execution_count": 13,
   "metadata": {},
   "outputs": [
    {
     "name": "stdout",
     "output_type": "stream",
     "text": [
      "\\citep{Ji2021ApJ...921...32J, Vivas2022ApJ...926...78V, Torrealba2016MNRAS.463..712T, DallOra2006ApJ...653L.109D, Munoz2018ApJ...860...66M, Walsh2008ApJ...688..245W, Carlin2018ApJ...865....7C, Correnti2009MNRAS.397L..26C, Moskowitz2020ApJ...892...27M, Homma2019PASJ...71...94H, Cerny2023ApJ...953....1C, Kuehn2008ApJ...674L..81K, Greco2008ApJ...675L..73G, Karczmarek2015AJ....150...90K, Torrealba2018MNRAS.475.5085T, Mau2020ApJ...890..136M, DrlicaWagner2015ApJ...813..109D, Homma2018PASJ...70S..18H, Carlin2017AJ....154..267C, Musella2009ApJ...695L..83M, Torrealba2016MNRAS.459.2370T, Muraveva2020MNRAS.499.4040M, Crnojevic2016ApJ...824L..14C, Cerny2021ApJ...920L..44C, Oakes2022ApJ...929..116O, Wang2019ApJ...881..118W, Cantu2021ApJ...916...81C, MartinezVazquez2019MNRAS.490.2183M, Simon2020ApJ...892..137S, MutluPakdil2020ApJ...902..106M, Koposov2015ApJ...805..130K, Kim2015ApJ...808L..39K, Martin2015ApJ...804L...5M, Vivas2016AJ....151..118V, Koposov2018MNRAS.479.5343K, Stetson2014PASP..126..616S, Bellazzini2005MNRAS.360..185B, Medina2018ApJ...855...43M, Kim2016ApJ...833...16K, Richstein2022ApJ...933..217R, Cerny2023ApJ...942..111C, MutluPakdil2018ApJ...863...25M, DrlicaWagner2016ApJ...833L...5D, Sand2012ApJ...756...79S, McConnachie2012AJ....144....4M, MartinezVazquez2015MNRAS.454.1509M, Belokurov2007ApJ...654..897B, Boettcher2013AJ....146...94B, Lee2009ApJ...703..692L, Vivas2020ApJS..247...35V, Garofalo2013ApJ...767...62G, DallOra2012ApJ...752...42D, Nemec1988AJ.....96..528N, Willman2006astro.ph..3486W},\n"
     ]
    }
   ],
   "source": [
    "## everything in one \\citep{} for reference \n",
    "citations_total = []\n",
    "for i in range(len(dsph_mw)):\n",
    "    \n",
    "    letter_to_list = []\n",
    "    \n",
    "    ## this adds combines all the citations per object that this table is using\n",
    "    cite_temp = []\n",
    "    if ~ma.is_masked(dsph_mw['ref_structure'][i]):\n",
    "        cite_temp.append(dsph_mw['ref_structure'][i])\n",
    "    if ~ma.is_masked(dsph_mw['ref_distance'][i]):\n",
    "        cite_temp.append(dsph_mw['ref_distance'][i])\n",
    "    if ~ma.is_masked(dsph_mw['ref_mv'][i]):\n",
    "        cite_temp.append(dsph_mw['ref_mv'][i])\n",
    "    \n",
    "    ## unique entries\n",
    "    cite_temp2 = np.unique(cite_temp)\n",
    "    \n",
    "    for tt in cite_temp2:\n",
    "        if tt not in  citations_total:\n",
    "            citations_total.append(tt)\n",
    "out =''\n",
    "for temp in citations_total:\n",
    "    out+=temp+', '\n",
    "print(\"\\citep{\"+out[:-2]+\"}\" +',')"
   ]
  },
  {
   "cell_type": "code",
   "execution_count": null,
   "metadata": {},
   "outputs": [],
   "source": []
  }
 ],
 "metadata": {
  "kernelspec": {
   "display_name": "Python 3",
   "language": "python",
   "name": "python3"
  },
  "language_info": {
   "codemirror_mode": {
    "name": "ipython",
    "version": 3
   },
   "file_extension": ".py",
   "mimetype": "text/x-python",
   "name": "python",
   "nbconvert_exporter": "python",
   "pygments_lexer": "ipython3",
   "version": "3.8.3"
  }
 },
 "nbformat": 4,
 "nbformat_minor": 4
}
